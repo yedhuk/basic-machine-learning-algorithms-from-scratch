{
  "nbformat": 4,
  "nbformat_minor": 0,
  "metadata": {
    "colab": {
      "provenance": [],
      "authorship_tag": "ABX9TyPmfMTddJy1eao/fqL8WUGX",
      "include_colab_link": true
    },
    "kernelspec": {
      "name": "python3",
      "display_name": "Python 3"
    },
    "language_info": {
      "name": "python"
    }
  },
  "cells": [
    {
      "cell_type": "markdown",
      "metadata": {
        "id": "view-in-github",
        "colab_type": "text"
      },
      "source": [
        "<a href=\"https://colab.research.google.com/github/yedhuk/basic-machine-learning-algorithms-from-scratch/blob/main/LogisticRegression.ipynb\" target=\"_parent\"><img src=\"https://colab.research.google.com/assets/colab-badge.svg\" alt=\"Open In Colab\"/></a>"
      ]
    },
    {
      "cell_type": "code",
      "execution_count": 1,
      "metadata": {
        "id": "G9H64cF9F0gg"
      },
      "outputs": [],
      "source": [
        "import numpy as np"
      ]
    },
    {
      "cell_type": "markdown",
      "source": [
        "1. Define Sigmoid Function\n",
        "2. Initialize weights and biases\n",
        "3. Define Loss function\n",
        "4. Perform Gradient Descent / Backpropogation\n",
        "5. Train and test with sample data"
      ],
      "metadata": {
        "id": "KZbKKWc7Ggz-"
      }
    },
    {
      "cell_type": "code",
      "source": [
        "Test"
      ],
      "metadata": {
        "id": "60ruRn_6GQtd"
      },
      "execution_count": null,
      "outputs": []
    }
  ]
}